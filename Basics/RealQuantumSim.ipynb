{
 "cells": [
  {
   "cell_type": "code",
   "execution_count": null,
   "metadata": {},
   "outputs": [],
   "source": [
    "#1. Create quantum program\n",
    "\n",
    "from qiskit import QuantumCircuit\n",
    "from qiskit_ibm_runtime import QiskitRuntimeService, Session, Sampler\n",
    "from qiskit.visualization import plot_histogram\n",
    "\n",
    "qc = QuantumCircuit(3)\n",
    "qc.h(0)\n",
    "qc.cx(0, [1, 2])\n",
    "qc.measure_all()"
   ]
  },
  {
   "cell_type": "code",
   "execution_count": null,
   "metadata": {},
   "outputs": [],
   "source": [
    "#2. Request IBM for device\n",
    "\n",
    "service = QiskitRuntimeService(channel = \"ibm_quantum\", token = \"10780806050b5a4f0308e11cf2e8ea7bb8b25ac54c0c774b2c139c50b526fad0508a1507e28633bb6ae6d23a81ea88b7d41116d646dea783615cbff695c59129\")\n",
    "backend = service.least_busy(simulator = False, operational = True)\n",
    "\n",
    "print(f\"Running on {backend}\")"
   ]
  },
  {
   "cell_type": "code",
   "execution_count": null,
   "metadata": {},
   "outputs": [],
   "source": [
    "#3. Run circuit on that device\n",
    "\n",
    "with Session(backend = backend):\n",
    "    sampler = Sampler()\n",
    "    results = sampler.run(qc).result()"
   ]
  },
  {
   "cell_type": "code",
   "execution_count": null,
   "metadata": {},
   "outputs": [],
   "source": [
    "#4. Visualize results\n",
    "\n",
    "dist = results.quasi_dists[0].binary_probabilities()\n",
    "plot_histogram(dist)"
   ]
  }
 ],
 "metadata": {
  "language_info": {
   "name": "python"
  },
  "orig_nbformat": 4
 },
 "nbformat": 4,
 "nbformat_minor": 2
}
